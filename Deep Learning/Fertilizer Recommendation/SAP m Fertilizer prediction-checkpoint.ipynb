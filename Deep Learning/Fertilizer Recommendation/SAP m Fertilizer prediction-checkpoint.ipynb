{
 "cells": [
  {
   "cell_type": "code",
   "execution_count": 1,
   "id": "133c44e6",
   "metadata": {},
   "outputs": [],
   "source": [
    "import pandas as pd\n",
    "from torch import nn"
   ]
  },
  {
   "cell_type": "code",
   "execution_count": 2,
   "id": "8150d293",
   "metadata": {},
   "outputs": [],
   "source": [
    "data = pd.read_csv(r\"C:\\Users\\Vansh\\Desktop\\projects\\Sap marathon\\Fertilizer Recommendation.csv\")"
   ]
  },
  {
   "cell_type": "code",
   "execution_count": 3,
   "id": "71337c17",
   "metadata": {},
   "outputs": [
    {
     "data": {
      "text/html": [
       "<div>\n",
       "<style scoped>\n",
       "    .dataframe tbody tr th:only-of-type {\n",
       "        vertical-align: middle;\n",
       "    }\n",
       "\n",
       "    .dataframe tbody tr th {\n",
       "        vertical-align: top;\n",
       "    }\n",
       "\n",
       "    .dataframe thead th {\n",
       "        text-align: right;\n",
       "    }\n",
       "</style>\n",
       "<table border=\"1\" class=\"dataframe\">\n",
       "  <thead>\n",
       "    <tr style=\"text-align: right;\">\n",
       "      <th></th>\n",
       "      <th>Temparature</th>\n",
       "      <th>Humidity</th>\n",
       "      <th>Moisture</th>\n",
       "      <th>Soil Type</th>\n",
       "      <th>Crop Type</th>\n",
       "      <th>Nitrogen</th>\n",
       "      <th>Potassium</th>\n",
       "      <th>Phosphorous</th>\n",
       "      <th>Fertilizer Name</th>\n",
       "    </tr>\n",
       "  </thead>\n",
       "  <tbody>\n",
       "    <tr>\n",
       "      <th>0</th>\n",
       "      <td>26</td>\n",
       "      <td>52</td>\n",
       "      <td>38</td>\n",
       "      <td>Sandy</td>\n",
       "      <td>Maize</td>\n",
       "      <td>37</td>\n",
       "      <td>0</td>\n",
       "      <td>0</td>\n",
       "      <td>Urea</td>\n",
       "    </tr>\n",
       "    <tr>\n",
       "      <th>1</th>\n",
       "      <td>29</td>\n",
       "      <td>52</td>\n",
       "      <td>45</td>\n",
       "      <td>Loamy</td>\n",
       "      <td>Sugarcane</td>\n",
       "      <td>12</td>\n",
       "      <td>0</td>\n",
       "      <td>36</td>\n",
       "      <td>DAP</td>\n",
       "    </tr>\n",
       "    <tr>\n",
       "      <th>2</th>\n",
       "      <td>34</td>\n",
       "      <td>65</td>\n",
       "      <td>62</td>\n",
       "      <td>Black</td>\n",
       "      <td>Cotton</td>\n",
       "      <td>7</td>\n",
       "      <td>9</td>\n",
       "      <td>30</td>\n",
       "      <td>14-35-14</td>\n",
       "    </tr>\n",
       "    <tr>\n",
       "      <th>3</th>\n",
       "      <td>32</td>\n",
       "      <td>62</td>\n",
       "      <td>34</td>\n",
       "      <td>Red</td>\n",
       "      <td>Tobacco</td>\n",
       "      <td>22</td>\n",
       "      <td>0</td>\n",
       "      <td>20</td>\n",
       "      <td>28-28</td>\n",
       "    </tr>\n",
       "    <tr>\n",
       "      <th>4</th>\n",
       "      <td>28</td>\n",
       "      <td>54</td>\n",
       "      <td>46</td>\n",
       "      <td>Clayey</td>\n",
       "      <td>Paddy</td>\n",
       "      <td>35</td>\n",
       "      <td>0</td>\n",
       "      <td>0</td>\n",
       "      <td>Urea</td>\n",
       "    </tr>\n",
       "    <tr>\n",
       "      <th>...</th>\n",
       "      <td>...</td>\n",
       "      <td>...</td>\n",
       "      <td>...</td>\n",
       "      <td>...</td>\n",
       "      <td>...</td>\n",
       "      <td>...</td>\n",
       "      <td>...</td>\n",
       "      <td>...</td>\n",
       "      <td>...</td>\n",
       "    </tr>\n",
       "    <tr>\n",
       "      <th>94</th>\n",
       "      <td>25</td>\n",
       "      <td>50</td>\n",
       "      <td>32</td>\n",
       "      <td>Clayey</td>\n",
       "      <td>Pulses</td>\n",
       "      <td>24</td>\n",
       "      <td>0</td>\n",
       "      <td>19</td>\n",
       "      <td>28-28</td>\n",
       "    </tr>\n",
       "    <tr>\n",
       "      <th>95</th>\n",
       "      <td>30</td>\n",
       "      <td>60</td>\n",
       "      <td>27</td>\n",
       "      <td>Red</td>\n",
       "      <td>Tobacco</td>\n",
       "      <td>4</td>\n",
       "      <td>17</td>\n",
       "      <td>17</td>\n",
       "      <td>10-26-26</td>\n",
       "    </tr>\n",
       "    <tr>\n",
       "      <th>96</th>\n",
       "      <td>38</td>\n",
       "      <td>72</td>\n",
       "      <td>51</td>\n",
       "      <td>Loamy</td>\n",
       "      <td>Wheat</td>\n",
       "      <td>39</td>\n",
       "      <td>0</td>\n",
       "      <td>0</td>\n",
       "      <td>Urea</td>\n",
       "    </tr>\n",
       "    <tr>\n",
       "      <th>97</th>\n",
       "      <td>36</td>\n",
       "      <td>60</td>\n",
       "      <td>43</td>\n",
       "      <td>Sandy</td>\n",
       "      <td>Millets</td>\n",
       "      <td>15</td>\n",
       "      <td>0</td>\n",
       "      <td>41</td>\n",
       "      <td>DAP</td>\n",
       "    </tr>\n",
       "    <tr>\n",
       "      <th>98</th>\n",
       "      <td>29</td>\n",
       "      <td>58</td>\n",
       "      <td>57</td>\n",
       "      <td>Black</td>\n",
       "      <td>Sugarcane</td>\n",
       "      <td>12</td>\n",
       "      <td>0</td>\n",
       "      <td>10</td>\n",
       "      <td>20-20</td>\n",
       "    </tr>\n",
       "  </tbody>\n",
       "</table>\n",
       "<p>99 rows × 9 columns</p>\n",
       "</div>"
      ],
      "text/plain": [
       "    Temparature  Humidity   Moisture Soil Type  Crop Type  Nitrogen  \\\n",
       "0            26         52        38     Sandy      Maize        37   \n",
       "1            29         52        45     Loamy  Sugarcane        12   \n",
       "2            34         65        62     Black     Cotton         7   \n",
       "3            32         62        34       Red    Tobacco        22   \n",
       "4            28         54        46    Clayey      Paddy        35   \n",
       "..          ...        ...       ...       ...        ...       ...   \n",
       "94           25         50        32    Clayey     Pulses        24   \n",
       "95           30         60        27       Red    Tobacco         4   \n",
       "96           38         72        51     Loamy      Wheat        39   \n",
       "97           36         60        43     Sandy    Millets        15   \n",
       "98           29         58        57     Black  Sugarcane        12   \n",
       "\n",
       "    Potassium  Phosphorous Fertilizer Name  \n",
       "0           0            0            Urea  \n",
       "1           0           36             DAP  \n",
       "2           9           30        14-35-14  \n",
       "3           0           20           28-28  \n",
       "4           0            0            Urea  \n",
       "..        ...          ...             ...  \n",
       "94          0           19           28-28  \n",
       "95         17           17        10-26-26  \n",
       "96          0            0            Urea  \n",
       "97          0           41             DAP  \n",
       "98          0           10           20-20  \n",
       "\n",
       "[99 rows x 9 columns]"
      ]
     },
     "execution_count": 3,
     "metadata": {},
     "output_type": "execute_result"
    }
   ],
   "source": [
    "data"
   ]
  },
  {
   "cell_type": "code",
   "execution_count": 4,
   "id": "a182ed3e",
   "metadata": {},
   "outputs": [],
   "source": [
    "data2 = data.copy()"
   ]
  },
  {
   "cell_type": "code",
   "execution_count": 5,
   "id": "faa6a9da",
   "metadata": {},
   "outputs": [
    {
     "name": "stdout",
     "output_type": "stream",
     "text": [
      "    Temparature  Humidity   Moisture  Nitrogen  Potassium  Phosphorous  \\\n",
      "0            26         52        38        37          0            0   \n",
      "1            29         52        45        12          0           36   \n",
      "2            34         65        62         7          9           30   \n",
      "3            32         62        34        22          0           20   \n",
      "4            28         54        46        35          0            0   \n",
      "..          ...        ...       ...       ...        ...          ...   \n",
      "94           25         50        32        24          0           19   \n",
      "95           30         60        27         4         17           17   \n",
      "96           38         72        51        39          0            0   \n",
      "97           36         60        43        15          0           41   \n",
      "98           29         58        57        12          0           10   \n",
      "\n",
      "   Fertilizer Name  Crop Type_Barley  Crop Type_Cotton  Crop Type_Ground Nuts  \\\n",
      "0             Urea                 0                 0                      0   \n",
      "1              DAP                 0                 0                      0   \n",
      "2         14-35-14                 0                 1                      0   \n",
      "3            28-28                 0                 0                      0   \n",
      "4             Urea                 0                 0                      0   \n",
      "..             ...               ...               ...                    ...   \n",
      "94           28-28                 0                 0                      0   \n",
      "95        10-26-26                 0                 0                      0   \n",
      "96            Urea                 0                 0                      0   \n",
      "97             DAP                 0                 0                      0   \n",
      "98           20-20                 0                 0                      0   \n",
      "\n",
      "    ...  Crop Type_Paddy  Crop Type_Pulses  Crop Type_Sugarcane  \\\n",
      "0   ...                0                 0                    0   \n",
      "1   ...                0                 0                    1   \n",
      "2   ...                0                 0                    0   \n",
      "3   ...                0                 0                    0   \n",
      "4   ...                1                 0                    0   \n",
      "..  ...              ...               ...                  ...   \n",
      "94  ...                0                 1                    0   \n",
      "95  ...                0                 0                    0   \n",
      "96  ...                0                 0                    0   \n",
      "97  ...                0                 0                    0   \n",
      "98  ...                0                 0                    1   \n",
      "\n",
      "    Crop Type_Tobacco  Crop Type_Wheat  Soil Type_Black  Soil Type_Clayey  \\\n",
      "0                   0                0                0                 0   \n",
      "1                   0                0                0                 0   \n",
      "2                   0                0                1                 0   \n",
      "3                   1                0                0                 0   \n",
      "4                   0                0                0                 1   \n",
      "..                ...              ...              ...               ...   \n",
      "94                  0                0                0                 1   \n",
      "95                  1                0                0                 0   \n",
      "96                  0                1                0                 0   \n",
      "97                  0                0                0                 0   \n",
      "98                  0                0                1                 0   \n",
      "\n",
      "    Soil Type_Loamy  Soil Type_Red  Soil Type_Sandy  \n",
      "0                 0              0                1  \n",
      "1                 1              0                0  \n",
      "2                 0              0                0  \n",
      "3                 0              1                0  \n",
      "4                 0              0                0  \n",
      "..              ...            ...              ...  \n",
      "94                0              0                0  \n",
      "95                0              1                0  \n",
      "96                1              0                0  \n",
      "97                0              0                1  \n",
      "98                0              0                0  \n",
      "\n",
      "[99 rows x 23 columns]\n"
     ]
    }
   ],
   "source": [
    "data3 = pd.get_dummies(data2, columns = ['Crop Type', 'Soil Type']) \n",
    "print(data3)"
   ]
  },
  {
   "cell_type": "code",
   "execution_count": 6,
   "id": "9ee081b0",
   "metadata": {},
   "outputs": [],
   "source": [
    "X = data3.drop('Fertilizer Name',axis = 1)\n",
    "\n",
    "Y = data3['Fertilizer Name']"
   ]
  },
  {
   "cell_type": "code",
   "execution_count": 7,
   "id": "ce250824",
   "metadata": {},
   "outputs": [
    {
     "data": {
      "text/plain": [
       "array(['Urea', 'DAP', '14-35-14', '28-28', '17-17-17', '20-20',\n",
       "       '10-26-26'], dtype=object)"
      ]
     },
     "execution_count": 7,
     "metadata": {},
     "output_type": "execute_result"
    }
   ],
   "source": [
    "Y.unique()"
   ]
  },
  {
   "cell_type": "code",
   "execution_count": 8,
   "id": "c9e38d2a",
   "metadata": {},
   "outputs": [],
   "source": [
    "Y = Y.replace('Urea', 0)\n",
    "Y = Y.replace('14-35-14', 2)\n",
    "Y = Y.replace('DAP', 1)\n",
    "Y = Y.replace('28-28', 3)\n",
    "Y = Y.replace('17-17-17', 4)\n",
    "Y = Y.replace('20-20', 5)\n",
    "Y = Y.replace('10-26-26', 6)\n"
   ]
  },
  {
   "cell_type": "code",
   "execution_count": 9,
   "id": "2215df63",
   "metadata": {},
   "outputs": [],
   "source": [
    "import torch\n",
    "# convert pandas DataFrame (X) and numpy array (y) into PyTorch tensors\n",
    "X = torch.tensor(X.values, dtype=torch.float32)\n",
    "y = torch.tensor(Y, dtype=torch.long)"
   ]
  },
  {
   "cell_type": "code",
   "execution_count": 10,
   "id": "70d3d7b9",
   "metadata": {},
   "outputs": [],
   "source": [
    "from sklearn.model_selection import train_test_split\n",
    "X_train,X_test,Y_train,Y_test=train_test_split(X,y,test_size=0.20,random_state=0)"
   ]
  },
  {
   "cell_type": "code",
   "execution_count": 11,
   "id": "de9cccfb",
   "metadata": {},
   "outputs": [],
   "source": [
    "Fert_Ann = nn.Sequential(\n",
    "      nn.Linear(22,64),   \n",
    "      nn.ReLU(),         \n",
    "      nn.Linear(64,64),  \n",
    "      nn.ReLU(),         \n",
    "      nn.Linear(64,7),   \n",
    "        )\n"
   ]
  },
  {
   "cell_type": "code",
   "execution_count": 12,
   "id": "4969a93e",
   "metadata": {},
   "outputs": [
    {
     "data": {
      "text/plain": [
       "Sequential(\n",
       "  (0): Linear(in_features=22, out_features=64, bias=True)\n",
       "  (1): ReLU()\n",
       "  (2): Linear(in_features=64, out_features=64, bias=True)\n",
       "  (3): ReLU()\n",
       "  (4): Linear(in_features=64, out_features=7, bias=True)\n",
       ")"
      ]
     },
     "execution_count": 12,
     "metadata": {},
     "output_type": "execute_result"
    }
   ],
   "source": [
    "Fert_Ann"
   ]
  },
  {
   "cell_type": "code",
   "execution_count": 13,
   "id": "66ef5bc1",
   "metadata": {},
   "outputs": [],
   "source": [
    "import tqdm\n",
    "from tqdm import trange\n",
    "import torch.optim as optim\n",
    " \n",
    "loss_fn = nn.CrossEntropyLoss()\n",
    "optimizer = optim.Adam(Fert_Ann.parameters(), lr=0.001)"
   ]
  },
  {
   "cell_type": "code",
   "execution_count": 14,
   "id": "1b877e5e",
   "metadata": {},
   "outputs": [
    {
     "name": "stdout",
     "output_type": "stream",
     "text": [
      "Epoch 0 train: Cross-entropy=2.0365891456604004, Accuracy=0.10000000149011612\n",
      "Epoch 0 validation: Cross-entropy=1.9652210474014282, Accuracy=0.10000000149011612\n",
      "Epoch 1 train: Cross-entropy=1.3491342067718506, Accuracy=0.6000000238418579\n",
      "Epoch 1 validation: Cross-entropy=1.7016595602035522, Accuracy=0.30000001192092896\n",
      "Epoch 2 train: Cross-entropy=1.1407312154769897, Accuracy=0.699999988079071\n",
      "Epoch 2 validation: Cross-entropy=1.5978145599365234, Accuracy=0.30000001192092896\n",
      "Epoch 3 train: Cross-entropy=1.0366456508636475, Accuracy=0.800000011920929\n",
      "Epoch 3 validation: Cross-entropy=1.4211288690567017, Accuracy=0.6000000238418579\n",
      "Epoch 4 train: Cross-entropy=0.9426940083503723, Accuracy=0.800000011920929\n",
      "Epoch 4 validation: Cross-entropy=1.3077945709228516, Accuracy=0.6499999761581421\n",
      "Epoch 5 train: Cross-entropy=0.8079860806465149, Accuracy=0.8999999761581421\n",
      "Epoch 5 validation: Cross-entropy=1.223229169845581, Accuracy=0.699999988079071\n",
      "Epoch 6 train: Cross-entropy=0.692621648311615, Accuracy=0.8999999761581421\n",
      "Epoch 6 validation: Cross-entropy=1.123032808303833, Accuracy=0.699999988079071\n",
      "Epoch 7 train: Cross-entropy=0.6144829392433167, Accuracy=0.8999999761581421\n",
      "Epoch 7 validation: Cross-entropy=1.014808177947998, Accuracy=0.699999988079071\n",
      "Epoch 8 train: Cross-entropy=0.5388365983963013, Accuracy=0.8999999761581421\n",
      "Epoch 8 validation: Cross-entropy=0.9275099635124207, Accuracy=0.75\n",
      "Epoch 9 train: Cross-entropy=0.4675051271915436, Accuracy=0.8999999761581421\n",
      "Epoch 9 validation: Cross-entropy=0.8441560864448547, Accuracy=0.75\n",
      "Epoch 10 train: Cross-entropy=0.4039311408996582, Accuracy=1.0\n",
      "Epoch 10 validation: Cross-entropy=0.7697712182998657, Accuracy=0.800000011920929\n",
      "Epoch 11 train: Cross-entropy=0.34696370363235474, Accuracy=1.0\n",
      "Epoch 11 validation: Cross-entropy=0.7058177590370178, Accuracy=0.800000011920929\n",
      "Epoch 12 train: Cross-entropy=0.29386234283447266, Accuracy=1.0\n",
      "Epoch 12 validation: Cross-entropy=0.6457154154777527, Accuracy=0.800000011920929\n",
      "Epoch 13 train: Cross-entropy=0.2519482374191284, Accuracy=1.0\n",
      "Epoch 13 validation: Cross-entropy=0.5933017730712891, Accuracy=0.8500000238418579\n",
      "Epoch 14 train: Cross-entropy=0.2218184769153595, Accuracy=1.0\n",
      "Epoch 14 validation: Cross-entropy=0.5466504693031311, Accuracy=0.8500000238418579\n",
      "Epoch 15 train: Cross-entropy=0.19303277134895325, Accuracy=1.0\n",
      "Epoch 15 validation: Cross-entropy=0.5026527643203735, Accuracy=0.8500000238418579\n",
      "Epoch 16 train: Cross-entropy=0.17007669806480408, Accuracy=1.0\n",
      "Epoch 16 validation: Cross-entropy=0.46744832396507263, Accuracy=0.8500000238418579\n",
      "Epoch 17 train: Cross-entropy=0.15408118069171906, Accuracy=1.0\n",
      "Epoch 17 validation: Cross-entropy=0.4363410472869873, Accuracy=0.8500000238418579\n",
      "Epoch 18 train: Cross-entropy=0.13986614346504211, Accuracy=1.0\n",
      "Epoch 18 validation: Cross-entropy=0.4080008864402771, Accuracy=0.8500000238418579\n",
      "Epoch 19 train: Cross-entropy=0.12882637977600098, Accuracy=1.0\n",
      "Epoch 19 validation: Cross-entropy=0.3834593892097473, Accuracy=0.8500000238418579\n"
     ]
    }
   ],
   "source": [
    "# Training parameters\n",
    "n_epochs = 20\n",
    "batch_size = 10\n",
    "batches_per_epoch = len(X_train) // batch_size\n",
    "\n",
    "for epoch in range(n_epochs):\n",
    "    for i in range(batches_per_epoch):\n",
    "        # Take a batch\n",
    "        start = i * batch_size\n",
    "        X_batch = X_train[start:start+batch_size]\n",
    "        y_batch = Y_train[start:start+batch_size]\n",
    "        \n",
    "        # Forward pass\n",
    "        y_pred = Fert_Ann(X_batch)\n",
    "        \n",
    "        # Convert y_batch to LongTensor if needed\n",
    "        y_batch = y_batch.long()\n",
    "        \n",
    "        # Compute loss and accuracy\n",
    "        loss = loss_fn(y_pred, y_batch)\n",
    "        acct = (torch.argmax(y_pred, 1) == y_batch).float().mean() \n",
    "        \n",
    "        # Backward pass\n",
    "        optimizer.zero_grad()\n",
    "        loss.backward()\n",
    "        optimizer.step()\n",
    "    \n",
    "    print(f\"Epoch {epoch} train: Cross-entropy={float(loss)}, Accuracy={float(acct)}\")\n",
    "    \n",
    "    # Evaluate on validation data\n",
    "    with torch.no_grad():  # No need to compute gradients during evaluation\n",
    "        y_pred_test = Fert_Ann(X_test)\n",
    "        Y_test_tensor = Y_test.long()  # Convert Y_test to LongTensor if needed\n",
    "        ce = loss_fn(y_pred_test, Y_test_tensor)\n",
    "        acc = (torch.argmax(y_pred_test, 1) == Y_test_tensor).float().mean()\n",
    "        print(f\"Epoch {epoch} validation: Cross-entropy={float(ce)}, Accuracy={float(acc)}\")\n"
   ]
  },
  {
   "cell_type": "markdown",
   "id": "efd436b0",
   "metadata": {},
   "source": [
    "### Testing"
   ]
  },
  {
   "cell_type": "code",
   "execution_count": 15,
   "id": "be33075d",
   "metadata": {},
   "outputs": [],
   "source": [
    "import torch\n",
    "\n",
    "mod2 = torch.load(r\"C:\\Users\\Vansh\\Desktop\\projects\\Sap marathon\\Fertilizer_mod.pth\")\n",
    "ut1 = [34.0, 65.0, 60.0, 35.0, 0.0, 0.0, 0.0, 0.0, 0.0, 0.0, 0.0, 0.0, 0.0, 0.0, 1.0, 0.0, 0.0, 1.0, 0.0, 0.0, 0.0, 0.0]\n",
    "\n",
    "# Convert ut1 to LongTensor\n",
    "ut2 = torch.tensor(ut1)\n",
    "\n",
    "# Assuming the last layer is the output layer\n",
    "output = mod2(ut2)"
   ]
  },
  {
   "cell_type": "code",
   "execution_count": 16,
   "id": "d14a4c01",
   "metadata": {},
   "outputs": [],
   "source": [
    "labels = ['Urea', 'DAP', '14-35-14', '28-28', '17-17-17', '20-20',\n",
    "       '10-26-26']\n",
    "output = labels[torch.argmax(output)]"
   ]
  },
  {
   "cell_type": "code",
   "execution_count": 18,
   "id": "dbc688e5",
   "metadata": {},
   "outputs": [
    {
     "name": "stdout",
     "output_type": "stream",
     "text": [
      "The optimal fertilzer is Urea\n"
     ]
    }
   ],
   "source": [
    "print(\"The optimal fertilzer is\",output)"
   ]
  },
  {
   "cell_type": "code",
   "execution_count": null,
   "id": "c755c0c9",
   "metadata": {},
   "outputs": [],
   "source": []
  }
 ],
 "metadata": {
  "kernelspec": {
   "display_name": "Python 3 (ipykernel)",
   "language": "python",
   "name": "python3"
  },
  "language_info": {
   "codemirror_mode": {
    "name": "ipython",
    "version": 3
   },
   "file_extension": ".py",
   "mimetype": "text/x-python",
   "name": "python",
   "nbconvert_exporter": "python",
   "pygments_lexer": "ipython3",
   "version": "3.9.7"
  }
 },
 "nbformat": 4,
 "nbformat_minor": 5
}
