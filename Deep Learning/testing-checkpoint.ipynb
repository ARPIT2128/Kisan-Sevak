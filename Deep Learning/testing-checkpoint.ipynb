{
 "cells": [
  {
   "cell_type": "code",
   "execution_count": 1,
   "id": "3fc37db0",
   "metadata": {},
   "outputs": [],
   "source": [
    "\"\"\"import torch\n",
    "import pandas as pd\n",
    "mod = torch.load(r'C:\\Users\\Vansh\\Desktop\\mod1.pth')\"\"\""
   ]
  },
  {
   "cell_type": "code",
   "execution_count": 2,
   "id": "554e289c",
   "metadata": {},
   "outputs": [],
   "source": [
    "ut1 = [[34, 65, 60, 35,  0,  0,  0,  0,  0,  0,  0,  0,  0,  0,  1,  0,\n",
    "         0,  1,  0,  0,  0,  0]]\n",
    "df = pd.DataFrame(ut1, columns=['Temparature', 'Humidity ', 'Moisture', 'Nitrogen', 'Potassium',\n",
    "       'Phosphorous', 'Crop Type_Barley', 'Crop Type_Cotton',\n",
    "       'Crop Type_Ground Nuts', 'Crop Type_Maize', 'Crop Type_Millets',\n",
    "       'Crop Type_Oil seeds', 'Crop Type_Paddy', 'Crop Type_Pulses',\n",
    "       'Crop Type_Sugarcane', 'Crop Type_Tobacco', 'Crop Type_Wheat',\n",
    "       'Soil Type_Black', 'Soil Type_Clayey', 'Soil Type_Loamy',\n",
    "       'Soil Type_Red', 'Soil Type_Sandy'])"
   ]
  },
  {
   "cell_type": "code",
   "execution_count": 3,
   "id": "f7e9e6f0",
   "metadata": {},
   "outputs": [
    {
     "data": {
      "text/html": [
       "<div>\n",
       "<style scoped>\n",
       "    .dataframe tbody tr th:only-of-type {\n",
       "        vertical-align: middle;\n",
       "    }\n",
       "\n",
       "    .dataframe tbody tr th {\n",
       "        vertical-align: top;\n",
       "    }\n",
       "\n",
       "    .dataframe thead th {\n",
       "        text-align: right;\n",
       "    }\n",
       "</style>\n",
       "<table border=\"1\" class=\"dataframe\">\n",
       "  <thead>\n",
       "    <tr style=\"text-align: right;\">\n",
       "      <th></th>\n",
       "      <th>Temparature</th>\n",
       "      <th>Humidity</th>\n",
       "      <th>Moisture</th>\n",
       "      <th>Nitrogen</th>\n",
       "      <th>Potassium</th>\n",
       "      <th>Phosphorous</th>\n",
       "      <th>Crop Type_Barley</th>\n",
       "      <th>Crop Type_Cotton</th>\n",
       "      <th>Crop Type_Ground Nuts</th>\n",
       "      <th>Crop Type_Maize</th>\n",
       "      <th>...</th>\n",
       "      <th>Crop Type_Paddy</th>\n",
       "      <th>Crop Type_Pulses</th>\n",
       "      <th>Crop Type_Sugarcane</th>\n",
       "      <th>Crop Type_Tobacco</th>\n",
       "      <th>Crop Type_Wheat</th>\n",
       "      <th>Soil Type_Black</th>\n",
       "      <th>Soil Type_Clayey</th>\n",
       "      <th>Soil Type_Loamy</th>\n",
       "      <th>Soil Type_Red</th>\n",
       "      <th>Soil Type_Sandy</th>\n",
       "    </tr>\n",
       "  </thead>\n",
       "  <tbody>\n",
       "    <tr>\n",
       "      <th>0</th>\n",
       "      <td>34</td>\n",
       "      <td>65</td>\n",
       "      <td>60</td>\n",
       "      <td>35</td>\n",
       "      <td>0</td>\n",
       "      <td>0</td>\n",
       "      <td>0</td>\n",
       "      <td>0</td>\n",
       "      <td>0</td>\n",
       "      <td>0</td>\n",
       "      <td>...</td>\n",
       "      <td>0</td>\n",
       "      <td>0</td>\n",
       "      <td>1</td>\n",
       "      <td>0</td>\n",
       "      <td>0</td>\n",
       "      <td>1</td>\n",
       "      <td>0</td>\n",
       "      <td>0</td>\n",
       "      <td>0</td>\n",
       "      <td>0</td>\n",
       "    </tr>\n",
       "  </tbody>\n",
       "</table>\n",
       "<p>1 rows × 22 columns</p>\n",
       "</div>"
      ],
      "text/plain": [
       "   Temparature  Humidity   Moisture  Nitrogen  Potassium  Phosphorous  \\\n",
       "0           34         65        60        35          0            0   \n",
       "\n",
       "   Crop Type_Barley  Crop Type_Cotton  Crop Type_Ground Nuts  Crop Type_Maize  \\\n",
       "0                 0                 0                      0                0   \n",
       "\n",
       "   ...  Crop Type_Paddy  Crop Type_Pulses  Crop Type_Sugarcane  \\\n",
       "0  ...                0                 0                    1   \n",
       "\n",
       "   Crop Type_Tobacco  Crop Type_Wheat  Soil Type_Black  Soil Type_Clayey  \\\n",
       "0                  0                0                1                 0   \n",
       "\n",
       "   Soil Type_Loamy  Soil Type_Red  Soil Type_Sandy  \n",
       "0                0              0                0  \n",
       "\n",
       "[1 rows x 22 columns]"
      ]
     },
     "execution_count": 3,
     "metadata": {},
     "output_type": "execute_result"
    }
   ],
   "source": [
    "df"
   ]
  },
  {
   "cell_type": "code",
   "execution_count": 27,
   "id": "fc6be91d",
   "metadata": {},
   "outputs": [],
   "source": [
    "import torch\n",
    "\n",
    "mod2 = torch.load(r'C:\\Users\\Vansh\\Desktop\\Fertilizer_mod.pth')\n",
    "ut1 = [34.0, 65.0, 60.0, 35.0, 0.0, 0.0, 0.0, 0.0, 0.0, 0.0, 0.0, 0.0, 0.0, 0.0, 1.0, 0.0, 0.0, 1.0, 0.0, 0.0, 0.0, 0.0]\n",
    "\n",
    "# Convert ut1 to LongTensor\n",
    "ut2 = torch.tensor(ut1)\n",
    "\n",
    "# Assuming the last layer is the output layer\n",
    "output = mod2(ut2)\n"
   ]
  },
  {
   "cell_type": "code",
   "execution_count": 28,
   "id": "b5bfaab5",
   "metadata": {},
   "outputs": [],
   "source": [
    "labels = ['Urea', 'DAP', '14-35-14', '28-28', '17-17-17', '20-20',\n",
    "       '10-26-26']\n",
    "output = labels[torch.argmax(output)]"
   ]
  },
  {
   "cell_type": "code",
   "execution_count": 29,
   "id": "e2ffaa48",
   "metadata": {},
   "outputs": [
    {
     "data": {
      "text/plain": [
       "'Urea'"
      ]
     },
     "execution_count": 29,
     "metadata": {},
     "output_type": "execute_result"
    }
   ],
   "source": [
    "output"
   ]
  },
  {
   "cell_type": "markdown",
   "id": "6a9e420f",
   "metadata": {},
   "source": [
    "# crop test"
   ]
  },
  {
   "cell_type": "code",
   "execution_count": 1,
   "id": "aee1f529",
   "metadata": {},
   "outputs": [],
   "source": [
    "import torch\n",
    "crop = torch.load(r'C:\\Users\\Vansh\\Desktop\\crop1.pth')\n",
    "ut1 = [90.0, 42.0, 43.0,20.879744,82.002744, 6.502985,202.935536]\n",
    "\n",
    "# Convert ut1 to LongTensor\n",
    "\n",
    "ut2 = torch.tensor(ut1)\n",
    "\n",
    "# Assuming the last layer is the output layer\n",
    "output = crop(ut2)"
   ]
  },
  {
   "cell_type": "code",
   "execution_count": 2,
   "id": "43750991",
   "metadata": {},
   "outputs": [],
   "source": [
    "labels = ['rice', 'maize', 'chickpea', 'kidneybeans', 'pigeonpeas',\n",
    "       'mothbeans', 'mungbean', 'blackgram', 'lentil', 'pomegranate',\n",
    "       'banana', 'mango', 'grapes', 'watermelon', 'muskmelon', 'apple',\n",
    "       'orange', 'papaya', 'coconut', 'cotton', 'jute', 'coffee']\n",
    "output = labels[torch.argmax(output)]"
   ]
  },
  {
   "cell_type": "code",
   "execution_count": 3,
   "id": "97dd3de5",
   "metadata": {},
   "outputs": [
    {
     "data": {
      "text/plain": [
       "'rice'"
      ]
     },
     "execution_count": 3,
     "metadata": {},
     "output_type": "execute_result"
    }
   ],
   "source": [
    "output"
   ]
  },
  {
   "cell_type": "code",
   "execution_count": null,
   "id": "da367cdc",
   "metadata": {},
   "outputs": [],
   "source": []
  }
 ],
 "metadata": {
  "kernelspec": {
   "display_name": "Python 3 (ipykernel)",
   "language": "python",
   "name": "python3"
  },
  "language_info": {
   "codemirror_mode": {
    "name": "ipython",
    "version": 3
   },
   "file_extension": ".py",
   "mimetype": "text/x-python",
   "name": "python",
   "nbconvert_exporter": "python",
   "pygments_lexer": "ipython3",
   "version": "3.9.7"
  }
 },
 "nbformat": 4,
 "nbformat_minor": 5
}
